{
 "cells": [
  {
   "cell_type": "markdown",
   "metadata": {},
   "source": [
    "# Milestone 3 - Independent Project\n",
    "Version: Jun-2019\n",
    "\n",
    "## Author - Lukas Fiorio"
   ]
  },
  {
   "cell_type": "markdown",
   "metadata": {},
   "source": [
    "# Abstract"
   ]
  },
  {
   "cell_type": "markdown",
   "metadata": {},
   "source": [
    "## Problem\n",
    "\n",
    "Problem Statement: We need to understand the value of a home's features and attributes on its overall value\n",
    "\n",
    "First, we visually examined the relationship between a home's sale price and its features to build our understanding.  Then, we applie statistical analysis and hypothesis testing to identify likely distributions and confidence intervals for our features. \n",
    "\n",
    "In this module, we build a predictive model based on these relationships."
   ]
  },
  {
   "cell_type": "markdown",
   "metadata": {},
   "source": [
    "## Conclusion\n",
    "\n",
    "Many features had predictive power in determining a home's sale price.\n",
    "\n",
    "We were able to achieve an R-squared of ~0.70 on our test data.  After binarizing the data, we were able to classify with overall accuracy of ~80%."
   ]
  },
  {
   "cell_type": "markdown",
   "metadata": {},
   "source": [
    "# Analysis"
   ]
  },
  {
   "cell_type": "code",
   "execution_count": 1,
   "metadata": {},
   "outputs": [],
   "source": [
    "# Import libraries\n",
    "import pandas as pd\n",
    "import numpy as np\n",
    "import matplotlib.pyplot as plt\n",
    "import seaborn as sns\n",
    "from IPython.display import display\n",
    "\n",
    "from scipy.stats import mstats\n",
    "import scipy.stats as ss\n",
    "import statsmodels.api as sm\n",
    "import statsmodels.formula.api as smf\n",
    "\n",
    "from sklearn.model_selection import train_test_split\n",
    "from sklearn.preprocessing import OneHotEncoder\n",
    "from sklearn.preprocessing import StandardScaler\n",
    "from sklearn.metrics import mean_squared_error\n",
    "from sklearn.decomposition import PCA"
   ]
  },
  {
   "cell_type": "code",
   "execution_count": 2,
   "metadata": {},
   "outputs": [],
   "source": [
    "# set package options\n",
    "pd.set_option('display.max_columns', None) # show all columns\n",
    "plt.rc('patch', force_edgecolor = True) # set bar borders in bar plots"
   ]
  },
  {
   "cell_type": "markdown",
   "metadata": {},
   "source": [
    "Start by loading the data and reading it info a dataframe"
   ]
  },
  {
   "cell_type": "code",
   "execution_count": 3,
   "metadata": {},
   "outputs": [],
   "source": [
    "# Locate & load dataset\n",
    "file = \"https://library.startlearninglabs.uw.edu/DATASCI410/Datasets/kc_house_data.csv\"\n",
    "kc_homes = pd.read_csv(file) # read file into df"
   ]
  },
  {
   "cell_type": "markdown",
   "metadata": {},
   "source": [
    "### Explore the dataset"
   ]
  },
  {
   "cell_type": "markdown",
   "metadata": {},
   "source": [
    "| Field | Description | Units |\n",
    "| :- | :- | :- |\n",
    "| id | unique identifier for each property | |\n",
    "| date | date sold | day |\n",
    "| price | sale price | $ |\n",
    "| bedrooms | number of bedrooms | # count |\n",
    "| bathrooms | number of bathrooms | # count |\n",
    "| sqft_living | size of living area | # square feet |\n",
    "| sqft_lot | size of lot | # square feet |\n",
    "| floors | number of floors | # count |\n",
    "| waterfront | indicates whether property overlooks a waterfront | 0, 1 |\n",
    "| view | quality of the property's view | index: 0 to 4 (poor to excellent) |\n",
    "| condition | condition of the house | index: 1 to 5 (poor to excellent) |\n",
    "| grade | construction quality, based on quality of materials/workmanship | index: 1 to 13 (poor to excellent) |\n",
    "| sqft_above | size of living area - above ground | # square feet |\n",
    "| sqft_basement | size of living area - below ground | # square feet |\n",
    "| yr_built | year built | year |\n",
    "| yr_renovated | year renovated | year (0 if never renovated) |\n",
    "| zipcode | 5 digit zip code | |\n",
    "| lat | latitude coordinates | |\n",
    "| long | longitude coordinates | |\n",
    "| sqft_living15 | nearest 15 properties: average size of living area | # square feet |\n",
    "| sqft_lot15 | nearest 15 properties: average size of lot (square feet) | # square feet |\n",
    "\n",
    "sources: \n",
    "- [King County Residential Glossary](https://blue.kingcounty.com/assessor/erealproperty/ResidentialGlossary.aspx)\n",
    "- [GeoDa Data and Lab: King County House Sales](https://geodacenter.github.io/data-and-lab//KingCounty-HouseSales2015/)"
   ]
  },
  {
   "cell_type": "markdown",
   "metadata": {},
   "source": [
    "## Data Exploration\n",
    "\n",
    "In Milestone 2, we took several steps to explore our data and clean up issues we uncovered. For brevity, those data exploration steps are omitted here (but can be found in Milestone 2).\n",
    "\n",
    "Of note, we noticed:\n",
    "- A few records with 0 bedrooms and 0 bathrooms\n",
    "- A record with 33 bedrooms (inferred to be 3 bedrooms)\n",
    "- Some features that should be treated for outliers\n",
    "- The date field stored as an object"
   ]
  },
  {
   "cell_type": "markdown",
   "metadata": {},
   "source": [
    "### Specifically, we decided to treat outliers in our most susceptible feature columns\n",
    "\n",
    "- `sqft_living`\n",
    "- `sqft_lot`\n",
    "- `sqft_above`\n",
    "- `sqft_basement` \n",
    "- `sqft_living15`\n",
    "- `sqft_lot15`"
   ]
  },
  {
   "cell_type": "code",
   "execution_count": 4,
   "metadata": {},
   "outputs": [],
   "source": [
    "# columns to inspect\n",
    "outlier_cols = [\n",
    "    'sqft_living', 'sqft_lot',\n",
    "    'sqft_above', 'sqft_basement', \n",
    "    'sqft_living15', 'sqft_lot15'\n",
    "    ]"
   ]
  },
  {
   "cell_type": "markdown",
   "metadata": {},
   "source": [
    "#### based on our explorating plots, we winsorize each of these columns by capping at the 99th percentile\n",
    "\n",
    "- `price` itself may also have outliers, but we will leave as is for now\n",
    "- noted that `sqft_living` will now no longer match `SUM(sqft_above, sqft_basement)`"
   ]
  },
  {
   "cell_type": "code",
   "execution_count": 5,
   "metadata": {},
   "outputs": [],
   "source": [
    "# cap outliers at 99th percentile\n",
    "for col in kc_homes[outlier_cols]:\n",
    "    kc_homes[col] = mstats.winsorize(kc_homes[col], limits=[0.00, 0.01])"
   ]
  },
  {
   "cell_type": "markdown",
   "metadata": {},
   "source": [
    "#### Next, we take the remaining data cleaning steps for issues we mentioned above\n",
    "\n",
    "- drop 0 bed, 0 bath records (7)\n",
    "- replace 33 beds with 3 beds\n",
    "- set the `date` column to date type"
   ]
  },
  {
   "cell_type": "code",
   "execution_count": 6,
   "metadata": {},
   "outputs": [],
   "source": [
    "# drop records (properties) with no bedrooms or bathrooms\n",
    "kc_homes = kc_homes.drop(\n",
    "    kc_homes[\n",
    "        (kc_homes['bathrooms'] == 0) & \n",
    "        (kc_homes['bedrooms'] == 0)\n",
    "    ].index).reset_index(drop=True)"
   ]
  },
  {
   "cell_type": "code",
   "execution_count": 7,
   "metadata": {},
   "outputs": [],
   "source": [
    "# replace 33 bedrooms outlier with assumed value (3)\n",
    "kc_homes['bedrooms'] = kc_homes['bedrooms'].replace(33, 3)"
   ]
  },
  {
   "cell_type": "code",
   "execution_count": 8,
   "metadata": {},
   "outputs": [],
   "source": [
    "# set the date column to date\n",
    "kc_homes['date'] =  pd.to_datetime(kc_homes['date'])"
   ]
  },
  {
   "cell_type": "markdown",
   "metadata": {},
   "source": [
    "### feature engineering\n",
    "\n",
    "Before proceeding, we will also create a few new features to help with our predictive modeling.\n",
    "\n",
    "- `is_renovated` - {0, 1} indicates whether a property has been renovated\n",
    "- `update_age` - [0, 115] years (from 2015) since built or renovated; whichever is more recent\n",
    "- `zip4` - [9800, 9819] first 4 digits of zipcode. truncated to reduce dimensionality"
   ]
  },
  {
   "cell_type": "code",
   "execution_count": 9,
   "metadata": {},
   "outputs": [],
   "source": [
    "kc_homes['is_renovated'] = (kc_homes['yr_renovated'] > 0).astype('int')\n",
    "kc_homes['update_age'] = 2015 - kc_homes[['yr_built', 'yr_renovated']].max(axis = 1)\n",
    "kc_homes['zip4'] = (kc_homes['zipcode'] / 10).astype('int')"
   ]
  },
  {
   "cell_type": "markdown",
   "metadata": {},
   "source": [
    "### Reduce cardinality of our data.\n",
    "\n",
    "In Milestone 2, we found some features to show little or no significant differences in price across categories.  Here, we combine those categories into lower cardinality features.  Even though we will be treating these features as ordinal, this should still help reduce predictive noise in our model.\n",
    "\n",
    "Had we treated these features as categorical, we would also benefit from reduced dimensionality after one-hot encoding."
   ]
  },
  {
   "cell_type": "code",
   "execution_count": 10,
   "metadata": {},
   "outputs": [],
   "source": [
    "# apply dictionary to recode values\n",
    "def recode(x, rule):\n",
    "    x = x.apply(lambda x: rule[x] if x in rule else x)\n",
    "    return x\n",
    "\n",
    "# recode `view` = (1, 2, 3) >> (2)\n",
    "kc_homes['view'] = recode(kc_homes['view'], {1: 2, 3: 2})\n",
    "\n",
    "# recode `condition` = (3, 4) >> (3.5)\n",
    "kc_homes['condition'] = recode(kc_homes['condition'], {3: 3.5, 4: 3.5})"
   ]
  },
  {
   "cell_type": "markdown",
   "metadata": {},
   "source": [
    "Now let's preview the data after cleaning, feature engineering, and reducing cardinality."
   ]
  },
  {
   "cell_type": "code",
   "execution_count": 11,
   "metadata": {},
   "outputs": [
    {
     "data": {
      "text/html": [
       "<div>\n",
       "<style scoped>\n",
       "    .dataframe tbody tr th:only-of-type {\n",
       "        vertical-align: middle;\n",
       "    }\n",
       "\n",
       "    .dataframe tbody tr th {\n",
       "        vertical-align: top;\n",
       "    }\n",
       "\n",
       "    .dataframe thead th {\n",
       "        text-align: right;\n",
       "    }\n",
       "</style>\n",
       "<table border=\"1\" class=\"dataframe\">\n",
       "  <thead>\n",
       "    <tr style=\"text-align: right;\">\n",
       "      <th></th>\n",
       "      <th>id</th>\n",
       "      <th>date</th>\n",
       "      <th>price</th>\n",
       "      <th>bedrooms</th>\n",
       "      <th>bathrooms</th>\n",
       "      <th>sqft_living</th>\n",
       "      <th>sqft_lot</th>\n",
       "      <th>floors</th>\n",
       "      <th>waterfront</th>\n",
       "      <th>view</th>\n",
       "      <th>condition</th>\n",
       "      <th>grade</th>\n",
       "      <th>sqft_above</th>\n",
       "      <th>sqft_basement</th>\n",
       "      <th>yr_built</th>\n",
       "      <th>yr_renovated</th>\n",
       "      <th>zipcode</th>\n",
       "      <th>lat</th>\n",
       "      <th>long</th>\n",
       "      <th>sqft_living15</th>\n",
       "      <th>sqft_lot15</th>\n",
       "      <th>is_renovated</th>\n",
       "      <th>update_age</th>\n",
       "      <th>zip4</th>\n",
       "    </tr>\n",
       "  </thead>\n",
       "  <tbody>\n",
       "    <tr>\n",
       "      <th>0</th>\n",
       "      <td>7129300520</td>\n",
       "      <td>2014-10-13</td>\n",
       "      <td>221900.0</td>\n",
       "      <td>3</td>\n",
       "      <td>1.00</td>\n",
       "      <td>1180</td>\n",
       "      <td>5650</td>\n",
       "      <td>1.0</td>\n",
       "      <td>0</td>\n",
       "      <td>0</td>\n",
       "      <td>3.5</td>\n",
       "      <td>7</td>\n",
       "      <td>1180</td>\n",
       "      <td>0</td>\n",
       "      <td>1955</td>\n",
       "      <td>0</td>\n",
       "      <td>98178</td>\n",
       "      <td>47.5112</td>\n",
       "      <td>-122.257</td>\n",
       "      <td>1340</td>\n",
       "      <td>5650</td>\n",
       "      <td>0</td>\n",
       "      <td>60</td>\n",
       "      <td>9817</td>\n",
       "    </tr>\n",
       "    <tr>\n",
       "      <th>1</th>\n",
       "      <td>6414100192</td>\n",
       "      <td>2014-12-09</td>\n",
       "      <td>538000.0</td>\n",
       "      <td>3</td>\n",
       "      <td>2.25</td>\n",
       "      <td>2570</td>\n",
       "      <td>7242</td>\n",
       "      <td>2.0</td>\n",
       "      <td>0</td>\n",
       "      <td>0</td>\n",
       "      <td>3.5</td>\n",
       "      <td>7</td>\n",
       "      <td>2170</td>\n",
       "      <td>400</td>\n",
       "      <td>1951</td>\n",
       "      <td>1991</td>\n",
       "      <td>98125</td>\n",
       "      <td>47.7210</td>\n",
       "      <td>-122.319</td>\n",
       "      <td>1690</td>\n",
       "      <td>7639</td>\n",
       "      <td>1</td>\n",
       "      <td>24</td>\n",
       "      <td>9812</td>\n",
       "    </tr>\n",
       "    <tr>\n",
       "      <th>2</th>\n",
       "      <td>5631500400</td>\n",
       "      <td>2015-02-25</td>\n",
       "      <td>180000.0</td>\n",
       "      <td>2</td>\n",
       "      <td>1.00</td>\n",
       "      <td>770</td>\n",
       "      <td>10000</td>\n",
       "      <td>1.0</td>\n",
       "      <td>0</td>\n",
       "      <td>0</td>\n",
       "      <td>3.5</td>\n",
       "      <td>6</td>\n",
       "      <td>770</td>\n",
       "      <td>0</td>\n",
       "      <td>1933</td>\n",
       "      <td>0</td>\n",
       "      <td>98028</td>\n",
       "      <td>47.7379</td>\n",
       "      <td>-122.233</td>\n",
       "      <td>2720</td>\n",
       "      <td>8062</td>\n",
       "      <td>0</td>\n",
       "      <td>82</td>\n",
       "      <td>9802</td>\n",
       "    </tr>\n",
       "    <tr>\n",
       "      <th>3</th>\n",
       "      <td>2487200875</td>\n",
       "      <td>2014-12-09</td>\n",
       "      <td>604000.0</td>\n",
       "      <td>4</td>\n",
       "      <td>3.00</td>\n",
       "      <td>1960</td>\n",
       "      <td>5000</td>\n",
       "      <td>1.0</td>\n",
       "      <td>0</td>\n",
       "      <td>0</td>\n",
       "      <td>5.0</td>\n",
       "      <td>7</td>\n",
       "      <td>1050</td>\n",
       "      <td>910</td>\n",
       "      <td>1965</td>\n",
       "      <td>0</td>\n",
       "      <td>98136</td>\n",
       "      <td>47.5208</td>\n",
       "      <td>-122.393</td>\n",
       "      <td>1360</td>\n",
       "      <td>5000</td>\n",
       "      <td>0</td>\n",
       "      <td>50</td>\n",
       "      <td>9813</td>\n",
       "    </tr>\n",
       "    <tr>\n",
       "      <th>4</th>\n",
       "      <td>1954400510</td>\n",
       "      <td>2015-02-18</td>\n",
       "      <td>510000.0</td>\n",
       "      <td>3</td>\n",
       "      <td>2.00</td>\n",
       "      <td>1680</td>\n",
       "      <td>8080</td>\n",
       "      <td>1.0</td>\n",
       "      <td>0</td>\n",
       "      <td>0</td>\n",
       "      <td>3.5</td>\n",
       "      <td>8</td>\n",
       "      <td>1680</td>\n",
       "      <td>0</td>\n",
       "      <td>1987</td>\n",
       "      <td>0</td>\n",
       "      <td>98074</td>\n",
       "      <td>47.6168</td>\n",
       "      <td>-122.045</td>\n",
       "      <td>1800</td>\n",
       "      <td>7503</td>\n",
       "      <td>0</td>\n",
       "      <td>28</td>\n",
       "      <td>9807</td>\n",
       "    </tr>\n",
       "  </tbody>\n",
       "</table>\n",
       "</div>"
      ],
      "text/plain": [
       "           id       date     price  bedrooms  bathrooms  sqft_living  \\\n",
       "0  7129300520 2014-10-13  221900.0         3       1.00         1180   \n",
       "1  6414100192 2014-12-09  538000.0         3       2.25         2570   \n",
       "2  5631500400 2015-02-25  180000.0         2       1.00          770   \n",
       "3  2487200875 2014-12-09  604000.0         4       3.00         1960   \n",
       "4  1954400510 2015-02-18  510000.0         3       2.00         1680   \n",
       "\n",
       "   sqft_lot  floors  waterfront  view  condition  grade  sqft_above  \\\n",
       "0      5650     1.0           0     0        3.5      7        1180   \n",
       "1      7242     2.0           0     0        3.5      7        2170   \n",
       "2     10000     1.0           0     0        3.5      6         770   \n",
       "3      5000     1.0           0     0        5.0      7        1050   \n",
       "4      8080     1.0           0     0        3.5      8        1680   \n",
       "\n",
       "   sqft_basement  yr_built  yr_renovated  zipcode      lat     long  \\\n",
       "0              0      1955             0    98178  47.5112 -122.257   \n",
       "1            400      1951          1991    98125  47.7210 -122.319   \n",
       "2              0      1933             0    98028  47.7379 -122.233   \n",
       "3            910      1965             0    98136  47.5208 -122.393   \n",
       "4              0      1987             0    98074  47.6168 -122.045   \n",
       "\n",
       "   sqft_living15  sqft_lot15  is_renovated  update_age  zip4  \n",
       "0           1340        5650             0          60  9817  \n",
       "1           1690        7639             1          24  9812  \n",
       "2           2720        8062             0          82  9802  \n",
       "3           1360        5000             0          50  9813  \n",
       "4           1800        7503             0          28  9807  "
      ]
     },
     "execution_count": 11,
     "metadata": {},
     "output_type": "execute_result"
    }
   ],
   "source": [
    "# preview data\n",
    "kc_homes.head()"
   ]
  },
  {
   "cell_type": "markdown",
   "metadata": {},
   "source": [
    "### Transform target\n",
    "\n",
    "From prior exploration we've learned `price` better fits a log distribution, so we will make that transformation here."
   ]
  },
  {
   "cell_type": "code",
   "execution_count": 12,
   "metadata": {},
   "outputs": [],
   "source": [
    "kc_homes['log_price'] = np.log(kc_homes['price'])"
   ]
  },
  {
   "cell_type": "markdown",
   "metadata": {},
   "source": [
    "### Specify predictors\n",
    "\n",
    "Before continuing, we specify which features we will keep for use in our model.  Our decisions are informed by prior analysis and our decision to use a linear model.\n",
    "\n",
    "- drop `lat`, `long` (highly useful, but not in a linear model)\n",
    "- drop `zipcode` (also useful, but too much dimensionality (use `zip4` instead)\n",
    "- drop `id`, `date` (not yet incorporating time series aspect)\n",
    "- drop `yr_built`, `yr_renovated` (in favor of `is_renovated`, `update_age`)\n",
    "<br><br>\n",
    "- lastly, drop `log_price` (and `price`), of course\n",
    "<br><br>\n",
    "- keep everything else!  We know from milestone 2 these are meaningfully related to price"
   ]
  },
  {
   "cell_type": "code",
   "execution_count": 13,
   "metadata": {},
   "outputs": [],
   "source": [
    "# specify predictors\n",
    "drop_x = ['lat', 'long', 'zipcode', 'id', 'date', 'yr_built', 'yr_renovated', 'price', 'log_price']\n",
    "X_cols = kc_homes.columns.difference(drop_x, sort = False)"
   ]
  },
  {
   "cell_type": "markdown",
   "metadata": {},
   "source": [
    "#### Split into train, test sets.\n",
    "\n",
    "We will use an 80/20 split to keep enough sample size for model evaluation (n = 21,600)"
   ]
  },
  {
   "cell_type": "code",
   "execution_count": 14,
   "metadata": {},
   "outputs": [],
   "source": [
    "# split the data into train & test\n",
    "X_train, X_test, y_train, y_test = train_test_split(kc_homes[X_cols], kc_homes['log_price'], \n",
    "                                                    test_size = 0.2, random_state = 0)"
   ]
  },
  {
   "cell_type": "code",
   "execution_count": 15,
   "metadata": {},
   "outputs": [],
   "source": [
    "# reset index to avoid issues with joining later on\n",
    "X_train = X_train.reset_index(drop = True)\n",
    "X_test = X_test.reset_index(drop = True)\n",
    "\n",
    "y_train = y_train.reset_index(drop = True)\n",
    "y_test = y_test.reset_index(drop = True)"
   ]
  },
  {
   "cell_type": "markdown",
   "metadata": {},
   "source": [
    "### Apply onehot encoding and z-scaling to columns in the train & test datasets\n",
    "\n",
    "- treat `floors` as nominal due to: low cardinality and a non-monotonic relationship with price (from milestone 2 exploration)"
   ]
  },
  {
   "cell_type": "code",
   "execution_count": 16,
   "metadata": {},
   "outputs": [],
   "source": [
    "# categorical (nominal) columns\n",
    "onehot_cols = ['floors',  'zip4'] # treat floors as nominal\n",
    "\n",
    " # numeric/ordinal columns\n",
    "scale_cols = ['bedrooms', 'bathrooms', 'sqft_living', 'sqft_lot', \n",
    "              'view', 'condition', 'grade', 'sqft_above',\n",
    "              'sqft_basement', 'sqft_living15', 'sqft_lot15', 'update_age'\n",
    "             ]\n",
    "\n",
    "# binary columns\n",
    "binary_cols = ['waterfront', 'is_renovated']"
   ]
  },
  {
   "cell_type": "markdown",
   "metadata": {},
   "source": [
    "#### Onehot encode categorical columns used for prediction (using training data distribution)"
   ]
  },
  {
   "cell_type": "code",
   "execution_count": 17,
   "metadata": {},
   "outputs": [],
   "source": [
    "# initialize class and fit our data (drop linearly dependent columns)\n",
    "onehot = OneHotEncoder(sparse = False, drop = 'first') # initialize one-hot-encoder\n",
    "onehot.fit(X_train[onehot_cols])\n",
    "\n",
    "# properly name columns (replace . with _ for ols conflict)\n",
    "onehot_names = onehot.get_feature_names(onehot_cols).astype(str)\n",
    "onehot_names = np.char.replace(onehot_names, \".\", \"_\")\n",
    "\n",
    "# onehot.transform to create encoded variables\n",
    "# note: wrap in pd.dataframe (default returns np array)\n",
    "X_train_onehot = pd.DataFrame(onehot.transform(X_train[onehot_cols]), columns = onehot_names)\n",
    "X_test_onehot = pd.DataFrame(onehot.transform(X_test[onehot_cols]), columns = onehot_names)"
   ]
  },
  {
   "cell_type": "markdown",
   "metadata": {},
   "source": [
    "#### z-scale numeric/ordinal columns used for prediction (using training data distribution)\n",
    "\n",
    "- important for PCA to follow\n",
    "- and the \"knn for fun\" section as well"
   ]
  },
  {
   "cell_type": "code",
   "execution_count": 18,
   "metadata": {},
   "outputs": [],
   "source": [
    "# initialize and fit z-transform based on TRAIN data\n",
    "znormalizer = StandardScaler()\n",
    "znormalizer.fit(X_train[scale_cols])\n",
    "\n",
    "# apply fitted transformation to train and test data\n",
    "X_train_norm = pd.DataFrame(znormalizer.transform(X_train[scale_cols]), columns = scale_cols)\n",
    "X_test_norm = pd.DataFrame(znormalizer.transform(X_test[scale_cols]), columns = scale_cols)"
   ]
  },
  {
   "cell_type": "markdown",
   "metadata": {},
   "source": [
    "#### include binary columns\n",
    "\n",
    "- no extra processing needed"
   ]
  },
  {
   "cell_type": "code",
   "execution_count": 19,
   "metadata": {},
   "outputs": [],
   "source": [
    "X_train_binary = X_train[binary_cols]\n",
    "X_test_binary = X_test[binary_cols]"
   ]
  },
  {
   "cell_type": "markdown",
   "metadata": {},
   "source": [
    "### perform PCA on continuous columns\n",
    "\n",
    "- our continuous columns are highly correlated with one another (from Milestone 2)\n",
    "- also definitinally related (for example: `sqft_living` is simply `sqft_basement` + `sqft_above`)\n",
    "- perform PCA to remove collinearity of these features and reduce dimensionality\n",
    "\n",
    "In some future analysis, perform MCA (multiple correspondence analysis) to reduce categorical feature dimensionality/collinearity.  For this project, we leave this out of scope."
   ]
  },
  {
   "cell_type": "code",
   "execution_count": 20,
   "metadata": {},
   "outputs": [],
   "source": [
    "# specify which numeric are ordinal\n",
    "ordinal_cols = ['bedrooms', 'bathrooms', 'view', 'condition', 'grade']\n",
    "\n",
    "# specify which numeric are continuous\n",
    "continuous_cols = ['sqft_living', 'sqft_lot', 'sqft_above',\n",
    "                   'sqft_basement', 'sqft_living15', \n",
    "                   'sqft_lot15', 'update_age'\n",
    "                  ]"
   ]
  },
  {
   "cell_type": "code",
   "execution_count": 21,
   "metadata": {},
   "outputs": [],
   "source": [
    "# of features\n",
    "feature_cnt = X_train_norm[continuous_cols].shape[1]\n",
    "\n",
    "# fit PCA\n",
    "pca = PCA(n_components=feature_cnt)\n",
    "pca = pca.fit(X_train_norm[continuous_cols])\n",
    "\n",
    "# apply PCA\n",
    "pca_result_train = pca.transform(X_train_norm[continuous_cols])\n",
    "pca_result_test = pca.transform(X_test_norm[continuous_cols])\n",
    "\n",
    "# convert results to df & name columns\n",
    "pca_cols = ['pc' + str(ix+1) for ix in range(feature_cnt)]\n",
    "X_train_PCA = pd.DataFrame(data = pca_result_train, columns=pca_cols)\n",
    "X_test_PCA = pd.DataFrame(data = pca_result_test, columns=pca_cols)"
   ]
  },
  {
   "cell_type": "markdown",
   "metadata": {},
   "source": [
    "#### decide how many components to keep\n",
    "\n",
    "- keep first 4 components based on visual inspection of diminishing marginal returns\n",
    "- they retain 90% of the original held in the 7 features"
   ]
  },
  {
   "cell_type": "code",
   "execution_count": 22,
   "metadata": {},
   "outputs": [
    {
     "data": {
      "image/png": "[encoded data removed]",
      "text/plain": [
       "<Figure size 432x288 with 1 Axes>"
      ]
     },
     "metadata": {
      "needs_background": "light"
     },
     "output_type": "display_data"
    }
   ],
   "source": [
    "# Plot the explained variance for all principal components.\n",
    "ax = sns.barplot(x=X_train_PCA.columns[:], y=pca.explained_variance_, palette=\"Blues_d\")\n",
    "ax.title.set_text('Explained variance by Principal Component');\n",
    "ax.set(xlabel='Principal Component', ylabel='Explained Variance')\n",
    "ax.set_xticklabels(ax.get_xticklabels(), rotation=90, horizontalalignment='right');"
   ]
  },
  {
   "cell_type": "code",
   "execution_count": 23,
   "metadata": {},
   "outputs": [
    {
     "data": {
      "image/png": "[encoded data removed]",
      "text/plain": [
       "<Figure size 432x288 with 1 Axes>"
      ]
     },
     "metadata": {
      "needs_background": "light"
     },
     "output_type": "display_data"
    }
   ],
   "source": [
    "# Plot as a percentage of the explained variance\n",
    "ax = sns.barplot(\n",
    "        x=X_train_PCA.columns[:], \n",
    "        y=np.cumsum(pca.explained_variance_) / pca.explained_variance_.sum(),\n",
    "        palette=\"Blues_d\")\n",
    "ax.title.set_text('Cumulative % of Explained variance by Principal Component');\n",
    "ax.set(xlabel='Principal Component', ylabel='Cumulative % of Explained Variance')\n",
    "ax.set_xticklabels(ax.get_xticklabels(), rotation=90, horizontalalignment='right');"
   ]
  },
  {
   "cell_type": "markdown",
   "metadata": {},
   "source": [
    "#### keep first 4 PCA components"
   ]
  },
  {
   "cell_type": "code",
   "execution_count": 24,
   "metadata": {},
   "outputs": [],
   "source": [
    "n_components = 4\n",
    "\n",
    "X_train_PCA = X_train_PCA.iloc[:,:n_components]\n",
    "X_test_PCA = X_test_PCA.iloc[:,:n_components]\n",
    "pca_cols = pca_cols[:n_components]"
   ]
  },
  {
   "cell_type": "markdown",
   "metadata": {},
   "source": [
    "#### Combine categorical, ordinal, continuous, and binary columns into prepped datasets"
   ]
  },
  {
   "cell_type": "code",
   "execution_count": 25,
   "metadata": {},
   "outputs": [],
   "source": [
    "# prepped training dataset\n",
    "X_train_featurized = X_train_onehot # add one-hot-encoded columns\n",
    "X_train_featurized[pca_cols] = X_train_PCA # add PCA components (continuous columns)\n",
    "X_train_featurized[ordinal_cols] = X_train_norm[ordinal_cols] # add ordinal columns\n",
    "X_train_featurized[binary_cols] = X_train_binary # add binary columns\n",
    "\n",
    "# prepped test dataset\n",
    "X_test_featurized = X_test_onehot # add one-hot-encoded columns\n",
    "X_test_featurized[pca_cols] = X_test_PCA # add PCA components (continuous columns)\n",
    "X_test_featurized[ordinal_cols] = X_test_norm[ordinal_cols] # add ordinal columns\n",
    "X_test_featurized[binary_cols] = X_test_binary # add binary columns"
   ]
  },
  {
   "cell_type": "markdown",
   "metadata": {},
   "source": [
    "#### combine target and features back together to fit model\n",
    "\n",
    "- exhaustively specifying features & target in the formula is a requirement of patsy via sm.ols"
   ]
  },
  {
   "cell_type": "code",
   "execution_count": 26,
   "metadata": {},
   "outputs": [],
   "source": [
    "# combine training data\n",
    "train = X_train_featurized.copy()\n",
    "train['y'] = y_train\n",
    "\n",
    "# combine test data\n",
    "test = X_test_featurized.copy()\n",
    "test['y'] = y_test"
   ]
  },
  {
   "cell_type": "code",
   "execution_count": 27,
   "metadata": {},
   "outputs": [],
   "source": [
    "# Set linear regression formula.\n",
    "formula_target = 'y ~ '\n",
    "formula_features = \" + \".join(X_train_featurized.columns)\n",
    "formula_final = formula_target + formula_features"
   ]
  },
  {
   "cell_type": "markdown",
   "metadata": {},
   "source": [
    "#### fit regression & make predictions"
   ]
  },
  {
   "cell_type": "code",
   "execution_count": 28,
   "metadata": {},
   "outputs": [],
   "source": [
    "# initialize & fit model\n",
    "ols_model = smf.ols(formula = formula_final, data = train)\n",
    "ols_model = ols_model.fit()\n",
    "\n",
    "# make predictions\n",
    "train_pred = ols_model.predict(X_train_featurized)\n",
    "test_pred = ols_model.predict(X_test_featurized)"
   ]
  },
  {
   "cell_type": "markdown",
   "metadata": {},
   "source": [
    "#### calculate RMSE"
   ]
  },
  {
   "cell_type": "code",
   "execution_count": 29,
   "metadata": {},
   "outputs": [],
   "source": [
    "# calculate RMSE of log transformed price\n",
    "rmse_train = mean_squared_error(y_train, train_pred, squared = False) # obtain RMSE\n",
    "rmse_test = mean_squared_error(y_test, test_pred, squared = False) # obtain RMSE\n",
    "\n",
    "# also calculate RMSE of original price (for interpretability)\n",
    "rmse_test_exp = mean_squared_error(np.exp(y_test), np.exp(test_pred), squared = False) # obtain RMSE"
   ]
  },
  {
   "cell_type": "markdown",
   "metadata": {},
   "source": [
    "### model summary:\n",
    "\n",
    "test rmse = 0.284 (on log transformation) >> $184,000 on untransformed price\n",
    "\n",
    "Ajusted r-squared = 0.705\n",
    "\n",
    "Many of our predictors did in fact have statistically significant coefficients. In fact the only ones that *weren't* significant were:\n",
    "- floors = 2\n",
    "- floors = 3.5\n",
    "- first 4 of zip code: (9806-, 9807-, 9814-, 9815-, 9819-)\n",
    "\n",
    "Also worth noting that train rmse is about the same as test rmse.  Unlikely that we've over-fitted."
   ]
  },
  {
   "cell_type": "code",
   "execution_count": 30,
   "metadata": {},
   "outputs": [
    {
     "name": "stdout",
     "output_type": "stream",
     "text": [
      "rmse - train (log): 0.286\n",
      "rmse - test (log): 0.284\n",
      "rmse - test : 184000.0\n"
     ]
    }
   ],
   "source": [
    "# print rmse\n",
    "print('rmse - train (log):', round(rmse_train, 3))\n",
    "print('rmse - test (log):', round(rmse_test, 3))\n",
    "print('rmse - test :', round(rmse_test_exp, -3))"
   ]
  },
  {
   "cell_type": "code",
   "execution_count": 31,
   "metadata": {
    "scrolled": true
   },
   "outputs": [
    {
     "name": "stdout",
     "output_type": "stream",
     "text": [
      "                            OLS Regression Results                            \n",
      "==============================================================================\n",
      "Dep. Variable:                      y   R-squared:                       0.706\n",
      "Model:                            OLS   Adj. R-squared:                  0.705\n",
      "Method:                 Least Squares   F-statistic:                     1216.\n",
      "Date:                Mon, 30 Nov 2020   Prob (F-statistic):               0.00\n",
      "Time:                        15:45:02   Log-Likelihood:                -2861.2\n",
      "No. Observations:               17284   AIC:                             5792.\n",
      "Df Residuals:                   17249   BIC:                             6064.\n",
      "Df Model:                          34                                         \n",
      "Covariance Type:            nonrobust                                         \n",
      "================================================================================\n",
      "                   coef    std err          t      P>|t|      [0.025      0.975]\n",
      "--------------------------------------------------------------------------------\n",
      "Intercept       13.0225      0.007   1825.636      0.000      13.009      13.037\n",
      "floors_1_5       0.0282      0.009      3.262      0.001       0.011       0.045\n",
      "floors_2_0       0.0071      0.007      0.990      0.322      -0.007       0.021\n",
      "floors_2_5       0.0537      0.027      2.024      0.043       0.002       0.106\n",
      "floors_3_0       0.0658      0.016      4.162      0.000       0.035       0.097\n",
      "floors_3_5       0.0330      0.108      0.304      0.761      -0.180       0.246\n",
      "zip4_9801       -0.0642      0.015     -4.321      0.000      -0.093      -0.035\n",
      "zip4_9802       -0.1361      0.010    -13.290      0.000      -0.156      -0.116\n",
      "zip4_9803       -0.0643      0.010     -6.662      0.000      -0.083      -0.045\n",
      "zip4_9804       -0.1125      0.012     -9.354      0.000      -0.136      -0.089\n",
      "zip4_9805       -0.0500      0.009     -5.353      0.000      -0.068      -0.032\n",
      "zip4_9806       -0.0360      0.020     -1.837      0.066      -0.074       0.002\n",
      "zip4_9807        0.0017      0.011      0.149      0.881      -0.020       0.024\n",
      "zip4_9809       -0.3899      0.019    -20.998      0.000      -0.426      -0.354\n",
      "zip4_9810        0.2015      0.011     18.309      0.000       0.180       0.223\n",
      "zip4_9811        0.2437      0.010     24.059      0.000       0.224       0.264\n",
      "zip4_9812        0.1404      0.013     11.209      0.000       0.116       0.165\n",
      "zip4_9813        0.0743      0.014      5.403      0.000       0.047       0.101\n",
      "zip4_9814       -0.0086      0.014     -0.604      0.546      -0.036       0.019\n",
      "zip4_9815       -0.0078      0.016     -0.475      0.635      -0.040       0.024\n",
      "zip4_9816       -0.2440      0.016    -15.535      0.000      -0.275      -0.213\n",
      "zip4_9817       -0.1050      0.016     -6.684      0.000      -0.136      -0.074\n",
      "zip4_9818       -0.3087      0.029    -10.494      0.000      -0.366      -0.251\n",
      "zip4_9819        0.0072      0.015      0.489      0.625      -0.022       0.036\n",
      "pc1              0.0989      0.003     32.862      0.000       0.093       0.105\n",
      "pc2             -0.0297      0.002    -13.359      0.000      -0.034      -0.025\n",
      "pc3              0.0825      0.003     28.792      0.000       0.077       0.088\n",
      "pc4              0.1052      0.003     32.295      0.000       0.099       0.112\n",
      "bedrooms        -0.0161      0.003     -5.662      0.000      -0.022      -0.011\n",
      "bathrooms        0.0452      0.004     11.419      0.000       0.037       0.053\n",
      "view             0.0329      0.003     12.629      0.000       0.028       0.038\n",
      "condition        0.0290      0.002     12.833      0.000       0.025       0.033\n",
      "grade            0.2036      0.004     50.183      0.000       0.196       0.212\n",
      "waterfront       0.3708      0.029     12.954      0.000       0.315       0.427\n",
      "is_renovated     0.2290      0.012     19.626      0.000       0.206       0.252\n",
      "==============================================================================\n",
      "Omnibus:                      124.407   Durbin-Watson:                   1.971\n",
      "Prob(Omnibus):                  0.000   Jarque-Bera (JB):              178.004\n",
      "Skew:                          -0.077   Prob(JB):                     2.22e-39\n",
      "Kurtosis:                       3.473   Cond. No.                         110.\n",
      "==============================================================================\n",
      "\n",
      "Warnings:\n",
      "[1] Standard Errors assume that the covariance matrix of the errors is correctly specified.\n"
     ]
    }
   ],
   "source": [
    "# show model summary (0.657)\n",
    "print(ols_model.summary())"
   ]
  },
  {
   "cell_type": "markdown",
   "metadata": {},
   "source": [
    "### binarize predictions\n",
    "\n",
    "- set home price threshold at \\\\$450K"
   ]
  },
  {
   "cell_type": "code",
   "execution_count": 32,
   "metadata": {},
   "outputs": [],
   "source": [
    "# import accuracy calculation packages\n",
    "from sklearn.metrics import confusion_matrix\n",
    "from sklearn.metrics import f1_score\n",
    "from sklearn.metrics import precision_score\n",
    "from sklearn.metrics import recall_score\n",
    "from sklearn.metrics import accuracy_score"
   ]
  },
  {
   "cell_type": "code",
   "execution_count": 33,
   "metadata": {},
   "outputs": [],
   "source": [
    "# set binary home sale price threshold\n",
    "threshold = 450000\n",
    "\n",
    "# binarize train & test data (0 = <$450K. 1 = $450K+)\n",
    "y_train_bin = (y_train >= np.log(threshold)).astype(int)\n",
    "y_test_bin = (y_test >= np.log(threshold)).astype(int)"
   ]
  },
  {
   "cell_type": "markdown",
   "metadata": {},
   "source": [
    "#### define model accuracy summary functions"
   ]
  },
  {
   "cell_type": "code",
   "execution_count": 34,
   "metadata": {},
   "outputs": [],
   "source": [
    "# function to calculate & present accuracy metrics (f1, precision, recall, accuracy)\n",
    "def model_accuracy(y, y_hat, model_name):\n",
    "    \n",
    "    # calculate accuracy metrics\n",
    "    f1 = f1_score(y, y_hat, pos_label = 1)\n",
    "    precision = precision_score(y, y_hat, pos_label = 1)\n",
    "    recall = recall_score(y, y_hat, pos_label = 1)\n",
    "    accuracy = accuracy_score(y, y_hat)\n",
    "    \n",
    "    # print output\n",
    "    print(model_name)\n",
    "    print('-------------------')\n",
    "    print(\"f1:         \", round(f1,3))\n",
    "    print(\"precision:  \", round(precision,3))\n",
    "    print(\"recall:     \", round(recall,3))\n",
    "    print(\"accuracy:   \", round(accuracy,3))\n",
    "    print(\"\\n==================================\\n\")"
   ]
  },
  {
   "cell_type": "markdown",
   "metadata": {},
   "source": [
    "And also define a function to more clearly visualize our resulting confusion matrix."
   ]
  },
  {
   "cell_type": "code",
   "execution_count": 35,
   "metadata": {},
   "outputs": [],
   "source": [
    "# function to make confusion matrix a bit more readable\n",
    "def c_matrix(y, y_hat, title, labels):\n",
    "\n",
    "    # normalize confusion matrix\n",
    "    cm = confusion_matrix(y, y_hat, normalize = \"pred\")\n",
    "\n",
    "    # configure confusion matrix plot\n",
    "    fig = plt.figure()\n",
    "    ax = fig.add_subplot(111)\n",
    "    cax = ax.matshow(cm)\n",
    "    plt.title(title)\n",
    "    fig.colorbar(cax)\n",
    "    ax.set_xticklabels([''] + labels)\n",
    "    ax.set_yticklabels([''] + labels)\n",
    "    plt.xlabel('Predicted')\n",
    "    plt.ylabel('Actual')\n",
    "\n",
    "    # show plot and confusion matrix\n",
    "    plt.show()\n",
    "    print(cm)"
   ]
  },
  {
   "cell_type": "markdown",
   "metadata": {},
   "source": [
    "### model accuracy = 80.5% using OLS with threshold at \\\\$450K"
   ]
  },
  {
   "cell_type": "code",
   "execution_count": 36,
   "metadata": {},
   "outputs": [
    {
     "name": "stdout",
     "output_type": "stream",
     "text": [
      "ols\n",
      "-------------------\n",
      "f1:          0.795\n",
      "precision:   0.82\n",
      "recall:      0.772\n",
      "accuracy:    0.803\n",
      "\n",
      "==================================\n",
      "\n"
     ]
    }
   ],
   "source": [
    "# binarize ols predictions & examine model accuracy\n",
    "test_pred_bin = (test_pred > np.log(threshold)).astype(int)\n",
    "model_accuracy(y_test_bin, test_pred_bin, 'ols')"
   ]
  },
  {
   "cell_type": "code",
   "execution_count": 37,
   "metadata": {},
   "outputs": [
    {
     "data": {
      "image/png": "[encoded data removed]",
      "text/plain": [
       "<Figure size 432x288 with 2 Axes>"
      ]
     },
     "metadata": {
      "needs_background": "light"
     },
     "output_type": "display_data"
    },
    {
     "name": "stdout",
     "output_type": "stream",
     "text": [
      "[[0.78874459 0.17992048]\n",
      " [0.21125541 0.82007952]]\n"
     ]
    }
   ],
   "source": [
    "c_matrix(y_test_bin, test_pred_bin, \"Home Price\", ['<$450K', '$450K+'])"
   ]
  },
  {
   "cell_type": "markdown",
   "metadata": {},
   "source": [
    "### quick comparison to knn (just for fun)"
   ]
  },
  {
   "cell_type": "code",
   "execution_count": 38,
   "metadata": {},
   "outputs": [],
   "source": [
    "from sklearn.neighbors import KNeighborsClassifier"
   ]
  },
  {
   "cell_type": "code",
   "execution_count": 39,
   "metadata": {},
   "outputs": [],
   "source": [
    "# fit model\n",
    "knnb = KNeighborsClassifier(n_neighbors = 20)\n",
    "knnb.fit(X_train_featurized, y_train_bin)\n",
    "\n",
    "# make predictions\n",
    "y_hat_knn = pd.DataFrame(\n",
    "    knnb.predict_proba(X_test_featurized)[:,1] >= 0.5, \n",
    "    columns = ['y_hat']).astype('int')"
   ]
  },
  {
   "cell_type": "markdown",
   "metadata": {},
   "source": [
    "#### examine model accuracy\n",
    "\n",
    "- overall a bit better than ols, although has a bit harder time identifying the expensive houses (79.8% accuracy vs 81.2% accuracy with OLS)"
   ]
  },
  {
   "cell_type": "code",
   "execution_count": 40,
   "metadata": {},
   "outputs": [
    {
     "name": "stdout",
     "output_type": "stream",
     "text": [
      "knn\n",
      "-------------------\n",
      "f1:          0.82\n",
      "precision:   0.8\n",
      "recall:      0.84\n",
      "accuracy:    0.817\n",
      "\n",
      "==================================\n",
      "\n"
     ]
    }
   ],
   "source": [
    "model_accuracy(y_test_bin, y_hat_knn, 'knn')"
   ]
  },
  {
   "cell_type": "code",
   "execution_count": 41,
   "metadata": {
    "scrolled": true
   },
   "outputs": [
    {
     "data": {
      "image/png": "[encoded data removed]",
      "text/plain": [
       "<Figure size 432x288 with 2 Axes>"
      ]
     },
     "metadata": {
      "needs_background": "light"
     },
     "output_type": "display_data"
    },
    {
     "name": "stdout",
     "output_type": "stream",
     "text": [
      "[[0.83533943 0.2       ]\n",
      " [0.16466057 0.8       ]]\n"
     ]
    }
   ],
   "source": [
    "c_matrix(y_test_bin, y_hat_knn, \"Home Price\", ['<$450K', '$450K+'])"
   ]
  },
  {
   "cell_type": "markdown",
   "metadata": {},
   "source": [
    "## Conclusion\n",
    "\n",
    "Many features had predictive power in determining a home's sale price.\n",
    "\n",
    "We were able to achieve an R-squared of ~0.70 on our test data using OLS to predict a home's price.  After binarizing the data, we were able to classify with overall accuracy of ~80%; both with our linear model and our k-nearest neighbors (knn) model."
   ]
  }
 ],
 "metadata": {
  "kernelspec": {
   "display_name": "Python 3",
   "language": "python",
   "name": "python3"
  },
  "language_info": {
   "codemirror_mode": {
    "name": "ipython",
    "version": 3
   },
   "file_extension": ".py",
   "mimetype": "text/x-python",
   "name": "python",
   "nbconvert_exporter": "python",
   "pygments_lexer": "ipython3",
   "version": "3.6.10"
  },
  "toc": {
   "base_numbering": 1,
   "nav_menu": {},
   "number_sections": true,
   "sideBar": true,
   "skip_h1_title": false,
   "title_cell": "Table of Contents",
   "title_sidebar": "Contents",
   "toc_cell": false,
   "toc_position": {},
   "toc_section_display": true,
   "toc_window_display": false
  }
 },
 "nbformat": 4,
 "nbformat_minor": 1
}
